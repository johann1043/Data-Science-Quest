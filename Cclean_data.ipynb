{
 "cells": [
  {
   "cell_type": "code",
   "execution_count": 1,
   "id": "4d730624-eae1-4e37-aa3c-563517f9d379",
   "metadata": {
    "tags": []
   },
   "outputs": [
    {
     "name": "stdout",
     "output_type": "stream",
     "text": [
      "Requirement already satisfied: xlrd in c:\\users\\vonke\\anaconda3\\lib\\site-packages (2.0.1)\n",
      "Note: you may need to restart the kernel to use updated packages.\n"
     ]
    }
   ],
   "source": [
    "pip install xlrd"
   ]
  },
  {
   "cell_type": "code",
   "execution_count": null,
   "id": "edb7d590-6425-4aa0-8298-6bc0d0a246b0",
   "metadata": {},
   "outputs": [],
   "source": [
    "import pandas as pd\n",
    "\n",
    "url = 'https://www.sharkattackfile.net/spreadsheets/GSAF5.xls'\n",
    "data_science_df = pd.read_excel(url)"
   ]
  },
  {
   "cell_type": "code",
   "execution_count": null,
   "id": "4e7f7a6f-3860-4474-ba77-33d8ee8c4b6a",
   "metadata": {},
   "outputs": [],
   "source": [
    "data_science_df"
   ]
  },
  {
   "cell_type": "code",
   "execution_count": null,
   "id": "c46694ca-ffa9-4b86-bf0b-72c6cdb83848",
   "metadata": {},
   "outputs": [],
   "source": [
    "# shark_df = shark_df.drop(['pdf', 'href formula','href','Case Number','Case Number.1','original order','Unnamed: 21','Unnamed: 22','Unnamed: 11','Source'], axis=1)"
   ]
  },
  {
   "cell_type": "code",
   "execution_count": null,
   "id": "4c9a5ad6-5c28-4f13-98ba-57220e3a5fa4",
   "metadata": {},
   "outputs": [],
   "source": [
    "# shark_df = shark_df.dropna(how='all')"
   ]
  },
  {
   "cell_type": "code",
   "execution_count": null,
   "id": "16321c75-8313-47d2-b59e-75ccd238f018",
   "metadata": {},
   "outputs": [],
   "source": [
    "# shark_df.columns = shark_df.columns.str.lower()"
   ]
  },
  {
   "cell_type": "code",
   "execution_count": null,
   "id": "087cfe8f-f89f-4a79-8aa8-1d36d096f517",
   "metadata": {},
   "outputs": [],
   "source": []
  }
 ],
 "metadata": {
  "kernelspec": {
   "display_name": "Python 3 (ipykernel)",
   "language": "python",
   "name": "python3"
  },
  "language_info": {
   "codemirror_mode": {
    "name": "ipython",
    "version": 3
   },
   "file_extension": ".py",
   "mimetype": "text/x-python",
   "name": "python",
   "nbconvert_exporter": "python",
   "pygments_lexer": "ipython3",
   "version": "3.11.5"
  }
 },
 "nbformat": 4,
 "nbformat_minor": 5
}
