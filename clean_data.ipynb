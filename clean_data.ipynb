{
 "cells": [
  {
   "cell_type": "code",
   "execution_count": null,
   "id": "4d730624-eae1-4e37-aa3c-563517f9d379",
   "metadata": {
    "tags": []
   },
   "outputs": [],
   "source": [
    "pip install xlrd"
   ]
  },
  {
   "cell_type": "code",
   "execution_count": null,
   "id": "f41cfaf1-f01e-4526-b09e-ad235a1f5ba7",
   "metadata": {
    "tags": []
   },
   "outputs": [],
   "source": [
    "#Importing our defined functions\n",
    "from clean_data_functions import *"
   ]
  },
  {
   "cell_type": "code",
   "execution_count": null,
   "id": "edb7d590-6425-4aa0-8298-6bc0d0a246b0",
   "metadata": {
    "tags": []
   },
   "outputs": [],
   "source": [
    "import pandas as pd\n",
    "\n",
    "url = 'https://raw.githubusercontent.com/johann1043/Data-Science-Quest/main/Database%20CSV/jobs_in_data.csv'\n",
    "data_science_df = pd.read_csv(url)"
   ]
  },
  {
   "cell_type": "markdown",
   "id": "917071ab-c652-41d0-a321-710e0295119c",
   "metadata": {
    "jp-MarkdownHeadingCollapsed": true,
    "tags": []
   },
   "source": [
    "# Cleaning data_science Data Frame"
   ]
  },
  {
   "cell_type": "code",
   "execution_count": null,
   "id": "fc3af6c8-4eaa-4d3d-83eb-96d38451a37c",
   "metadata": {
    "tags": []
   },
   "outputs": [],
   "source": [
    "#Getting initial overview of data frame\n",
    "data_frame_overview(data_science_df)"
   ]
  },
  {
   "cell_type": "code",
   "execution_count": null,
   "id": "4e7f7a6f-3860-4474-ba77-33d8ee8c4b6a",
   "metadata": {
    "tags": []
   },
   "outputs": [],
   "source": [
    "#Applying the reformatting the names of the columns\n",
    "column_name_mapping = {'work_year' : 'year', 'employee_residence' : 'country'}\n",
    "\n",
    "format_column_names(data_science_df, column_name_mapping)"
   ]
  },
  {
   "cell_type": "code",
   "execution_count": null,
   "id": "087cfe8f-f89f-4a79-8aa8-1d36d096f517",
   "metadata": {
    "tags": []
   },
   "outputs": [],
   "source": [
    "null_check(data_science_df)"
   ]
  },
  {
   "cell_type": "code",
   "execution_count": null,
   "id": "5a936fd6-d2d4-4892-8e41-fdddfc7d107b",
   "metadata": {
    "tags": []
   },
   "outputs": [],
   "source": [
    "# dup_check(data_science_df)"
   ]
  },
  {
   "cell_type": "code",
   "execution_count": null,
   "id": "cc36ad8f-01da-4947-81f6-9f15cbfa3225",
   "metadata": {
    "tags": []
   },
   "outputs": [],
   "source": [
    "# duplicates = data_science_df.duplicated(keep=False)\n",
    "\n",
    "# duplicate_rows = data_science_df.loc[duplicates]\n",
    "# print(duplicate_rows)"
   ]
  },
  {
   "cell_type": "code",
   "execution_count": null,
   "id": "2ac9e10b-d6bc-48fd-9058-5d638f11ea85",
   "metadata": {
    "tags": []
   },
   "outputs": [],
   "source": [
    "# drop_dup_reset(data_science_df)"
   ]
  },
  {
   "cell_type": "code",
   "execution_count": null,
   "id": "6d9dde7d-531f-4050-8283-bff19118e790",
   "metadata": {
    "tags": []
   },
   "outputs": [],
   "source": []
  },
  {
   "cell_type": "code",
   "execution_count": null,
   "id": "ab472f2c-b9b3-4a26-96b6-540d8f4d0496",
   "metadata": {
    "tags": []
   },
   "outputs": [],
   "source": [
    "data_science_df = data_science_df.drop(['job_title', 'salary_currency','salary','company_location','company_size'], axis=1)\n",
    "data_science_df"
   ]
  },
  {
   "cell_type": "code",
   "execution_count": null,
   "id": "2fe737b2-b1d9-46e8-9143-0674e196200e",
   "metadata": {
    "tags": []
   },
   "outputs": [],
   "source": [
    "data_science_df = data_science_df[data_science_df['employment_type'] == 'Full-time']\n",
    "data_science_df"
   ]
  },
  {
   "cell_type": "code",
   "execution_count": null,
   "id": "938123d0-51f4-4513-b1bb-2150e8f8cdf2",
   "metadata": {
    "tags": []
   },
   "outputs": [],
   "source": [
    "data_science_df = data_science_df.drop(['employment_type'], axis=1)\n",
    "data_science_df"
   ]
  },
  {
   "cell_type": "markdown",
   "id": "ab925223-edda-44d7-be1d-a39147ebc493",
   "metadata": {
    "jp-MarkdownHeadingCollapsed": true,
    "tags": []
   },
   "source": [
    "# Cleaning global_salary Data Frame"
   ]
  },
  {
   "cell_type": "code",
   "execution_count": null,
   "id": "981e158e-8c5d-4668-af11-adf0d111ab99",
   "metadata": {
    "tags": []
   },
   "outputs": [],
   "source": [
    "import pandas as pd\n",
    "\n",
    "url = 'https://raw.githubusercontent.com/johann1043/Data-Science-Quest/main/salary_data.csv'\n",
    "global_salary_df = pd.read_csv(url)"
   ]
  },
  {
   "cell_type": "code",
   "execution_count": null,
   "id": "36c75b37-2582-4bee-83e6-d6130e2ba023",
   "metadata": {
    "tags": []
   },
   "outputs": [],
   "source": [
    "global_salary_df"
   ]
  },
  {
   "cell_type": "code",
   "execution_count": null,
   "id": "46cd8edb-1756-4ff2-93fe-1b7ff41d0b57",
   "metadata": {
    "tags": []
   },
   "outputs": [],
   "source": [
    "#Getting initial overview of data frame\n",
    "data_frame_overview(global_salary_df)"
   ]
  },
  {
   "cell_type": "code",
   "execution_count": null,
   "id": "9560c9a3-12aa-4991-a1af-848d51d01308",
   "metadata": {
    "tags": []
   },
   "outputs": [],
   "source": [
    "#Applying the reformatting the names of the columns\n",
    "column_name_mapping = {'country_name' : 'country', 'average_salary': 'global_average_salary'}\n",
    "\n",
    "format_column_names(global_salary_df, column_name_mapping)"
   ]
  },
  {
   "cell_type": "code",
   "execution_count": null,
   "id": "be2e9f22-a535-4e37-a770-18c1207bab62",
   "metadata": {
    "tags": []
   },
   "outputs": [],
   "source": [
    "null_check(global_salary_df)"
   ]
  },
  {
   "cell_type": "code",
   "execution_count": null,
   "id": "be08aa49-40d4-4cfa-884d-37a2c32ffcae",
   "metadata": {
    "tags": []
   },
   "outputs": [],
   "source": [
    "dup_check(global_salary_df)"
   ]
  },
  {
   "cell_type": "code",
   "execution_count": null,
   "id": "f4d1314e-de99-482e-ba0f-bf04cfeccb90",
   "metadata": {
    "tags": []
   },
   "outputs": [],
   "source": [
    "global_salary_df = global_salary_df.drop(['continent_name', 'wage_span','median_salary','lowest_salary','highest_salary'], axis=1)\n",
    "global_salary_df"
   ]
  },
  {
   "cell_type": "code",
   "execution_count": null,
   "id": "355f8637-415e-4398-a99c-6315d01641ee",
   "metadata": {
    "tags": []
   },
   "outputs": [],
   "source": [
    "global_salary_df['global_average_salary'] = global_salary_df['global_average_salary'].map(lambda x: x * 12).round(0)\n",
    "global_salary_df"
   ]
  },
  {
   "cell_type": "code",
   "execution_count": null,
   "id": "6a25e435-4bfb-4ccb-84dc-19154222d648",
   "metadata": {
    "tags": []
   },
   "outputs": [],
   "source": [
    "country_list = data_science_df['country'].unique()"
   ]
  },
  {
   "cell_type": "code",
   "execution_count": null,
   "id": "bdff7add-a8e2-4513-b865-a53e57e0d51d",
   "metadata": {
    "tags": []
   },
   "outputs": [],
   "source": [
    "for country in country_list:\n",
    "    # Check if the country is in the 'country' column of global_salary_df\n",
    "    if country in global_salary_df['country'].values:\n",
    "        True\n",
    "    else:\n",
    "        print(f'Cannot find {country}.')\n"
   ]
  },
  {
   "cell_type": "markdown",
   "id": "33583e70-5c0c-4c6c-8635-f6fda46bce7d",
   "metadata": {
    "tags": []
   },
   "source": [
    "# Merge the two Data Frames and export"
   ]
  },
  {
   "cell_type": "code",
   "execution_count": null,
   "id": "c4263b97-a22d-488e-9578-335c20d17ec1",
   "metadata": {
    "tags": []
   },
   "outputs": [],
   "source": [
    "# Merge DataFrames on the common column\n",
    "clean_data_df = pd.merge(data_science_df, global_salary_df, on='country', how='inner')\n",
    "clean_data_df"
   ]
  },
  {
   "cell_type": "code",
   "execution_count": null,
   "id": "214a1cca-8785-4245-8142-fb46e75d6d9e",
   "metadata": {
    "tags": []
   },
   "outputs": [],
   "source": [
    "countries = ['United States', 'Canada', 'Australia', 'Germany', 'United Kingdom', \n",
    "             'Netherlands', 'India', 'France', 'Spain', 'Italy', 'Portugal', \n",
    "             'Colombia', 'Brazil', 'Greece']\n",
    "\n",
    "clean_data_df = clean_data_df[clean_data_df['country'].isin(countries)]\n"
   ]
  },
  {
   "cell_type": "code",
   "execution_count": null,
   "id": "38b3443c-ebfb-4cc2-8f45-7aa6c4cc795f",
   "metadata": {
    "tags": []
   },
   "outputs": [],
   "source": [
    "clean_data_df['global_average_salary'] = clean_data_df['global_average_salary'].astype(int)"
   ]
  },
  {
   "cell_type": "code",
   "execution_count": null,
   "id": "347428f4-d7cb-4a50-9b68-24b0db4f7b4a",
   "metadata": {
    "tags": []
   },
   "outputs": [],
   "source": [
    "# Export\n",
    "clean_data_df.to_csv('clean_data.csv', index=False)\n"
   ]
  },
  {
   "cell_type": "markdown",
   "id": "8fc22c89-94d7-435e-b3ee-389d94d3c8c8",
   "metadata": {
    "jp-MarkdownHeadingCollapsed": true,
    "tags": []
   },
   "source": [
    "# Create Tables"
   ]
  },
  {
   "cell_type": "markdown",
   "id": "9ec56283-d4dd-4c71-a484-a1f3dd1b46c5",
   "metadata": {
    "tags": []
   },
   "source": [
    "## Create global_average_salary Table "
   ]
  },
  {
   "cell_type": "code",
   "execution_count": null,
   "id": "d703d5f2-1d5b-43c9-975d-1911656e4b75",
   "metadata": {
    "tags": []
   },
   "outputs": [],
   "source": [
    "global_average_salary = sorted(list(clean_data_df['global_average_salary'].unique()))\n",
    "global_average_salary"
   ]
  },
  {
   "cell_type": "code",
   "execution_count": null,
   "id": "d137da79-d171-4f0a-b95f-5ecf82021bb2",
   "metadata": {
    "tags": []
   },
   "outputs": [],
   "source": [
    "global_salary_id = list(range(1,len(global_average_salary)+1))\n",
    "global_salary_id"
   ]
  },
  {
   "cell_type": "code",
   "execution_count": null,
   "id": "701335ef-6e1f-4020-a468-eb35b7233e21",
   "metadata": {
    "tags": []
   },
   "outputs": [],
   "source": [
    "global_average_salary_mapping = dict(zip(global_average_salary,global_salary_id))\n",
    "global_average_salary_mapping"
   ]
  },
  {
   "cell_type": "code",
   "execution_count": null,
   "id": "95f60e80-2506-48c8-b486-1d9af5174eb1",
   "metadata": {
    "tags": []
   },
   "outputs": [],
   "source": [
    "clean_data_df['global_salary_id'] = clean_data_df['global_average_salary'].map(global_average_salary_mapping)"
   ]
  },
  {
   "cell_type": "code",
   "execution_count": null,
   "id": "f4dfd3f1-2446-44d2-b418-0cbda795ba2d",
   "metadata": {
    "tags": []
   },
   "outputs": [],
   "source": [
    "clean_data_df['global_salary_id']"
   ]
  },
  {
   "cell_type": "code",
   "execution_count": null,
   "id": "0aee2f8b-e8df-4306-adaa-041a85f7f866",
   "metadata": {
    "tags": []
   },
   "outputs": [],
   "source": [
    "global_average_salary_dict = {'global_salary_id':global_salary_id, 'global_average_salary':global_average_salary}\n",
    "global_average_salary_df = pd.DataFrame(global_average_salary_dict)\n",
    "global_average_salary_df"
   ]
  },
  {
   "cell_type": "code",
   "execution_count": null,
   "id": "d440aa14-db45-41f6-878f-083896937c68",
   "metadata": {},
   "outputs": [],
   "source": [
    "global_average_salary_df.to_csv(\"global_average_salary.csv\")"
   ]
  },
  {
   "cell_type": "markdown",
   "id": "1775f3e2-2d86-469b-85e1-d4d4516c5e29",
   "metadata": {
    "jp-MarkdownHeadingCollapsed": true,
    "tags": []
   },
   "source": [
    "## Create country table "
   ]
  },
  {
   "cell_type": "code",
   "execution_count": null,
   "id": "0f4dfd01-e634-4988-968b-09026791b5c7",
   "metadata": {},
   "outputs": [],
   "source": [
    "country_df = clean_data_df[['country','global_salary_id']]"
   ]
  },
  {
   "cell_type": "code",
   "execution_count": null,
   "id": "5188e06f-50ca-4062-8d1e-1c2c5c1eeb15",
   "metadata": {
    "tags": []
   },
   "outputs": [],
   "source": [
    "country_df.drop_duplicates(inplace=True)"
   ]
  },
  {
   "cell_type": "code",
   "execution_count": null,
   "id": "c4c85564-e57c-41d9-bb09-4aed0a5fb470",
   "metadata": {
    "tags": []
   },
   "outputs": [],
   "source": [
    "country_df.reset_index(inplace=True,drop=True)"
   ]
  },
  {
   "cell_type": "code",
   "execution_count": null,
   "id": "4cdab8a4-44bd-4e96-9534-a535e74281c4",
   "metadata": {
    "tags": []
   },
   "outputs": [],
   "source": [
    "country_df = country_df.sort_values(by='country')"
   ]
  },
  {
   "cell_type": "code",
   "execution_count": null,
   "id": "26d6374a-bc14-4d23-8feb-bbf0d97a561f",
   "metadata": {
    "tags": []
   },
   "outputs": [],
   "source": [
    "country_df.reset_index(inplace=True,drop=True)"
   ]
  },
  {
   "cell_type": "code",
   "execution_count": null,
   "id": "18750565-8669-457e-8452-b8670547768c",
   "metadata": {
    "tags": []
   },
   "outputs": [],
   "source": [
    "country_df['country_id'] = list(range(1,len(country_df)+1))"
   ]
  },
  {
   "cell_type": "code",
   "execution_count": null,
   "id": "78673ea5-974b-465a-8e2b-3e2f36c1f5e8",
   "metadata": {
    "tags": []
   },
   "outputs": [],
   "source": [
    "country_df"
   ]
  },
  {
   "cell_type": "code",
   "execution_count": null,
   "id": "5f6b8e2a-0c8c-44b2-9d62-e1fb30e9490e",
   "metadata": {
    "tags": []
   },
   "outputs": [],
   "source": [
    "country = country_df['country']\n",
    "country"
   ]
  },
  {
   "cell_type": "code",
   "execution_count": null,
   "id": "0fb8e224-b861-4702-bc30-2b92738cc91a",
   "metadata": {
    "tags": []
   },
   "outputs": [],
   "source": [
    "country_id = country_df['country_id']\n",
    "country_id"
   ]
  },
  {
   "cell_type": "code",
   "execution_count": null,
   "id": "f5db9b73-6a7f-4d5a-b44b-9b7084b6b200",
   "metadata": {
    "tags": []
   },
   "outputs": [],
   "source": [
    "country_mapping = dict(zip(country,country_id))\n",
    "country_mapping"
   ]
  },
  {
   "cell_type": "code",
   "execution_count": null,
   "id": "f55b4d17-b0f3-4cb1-bad6-c31847b00880",
   "metadata": {
    "tags": []
   },
   "outputs": [],
   "source": [
    "clean_data_df['country_id'] = clean_data_df['country'].map(country_mapping)"
   ]
  },
  {
   "cell_type": "code",
   "execution_count": null,
   "id": "87bb4d44-b586-420c-8ab7-1be56fe1603c",
   "metadata": {
    "tags": []
   },
   "outputs": [],
   "source": [
    "clean_data_df"
   ]
  },
  {
   "cell_type": "code",
   "execution_count": null,
   "id": "e58f57f0-ffc8-4064-8b41-f72994056424",
   "metadata": {
    "tags": []
   },
   "outputs": [],
   "source": [
    "country_df.to_csv(\"country.csv\")"
   ]
  },
  {
   "cell_type": "markdown",
   "id": "087cb158-403f-4113-b308-134ae22e6b3a",
   "metadata": {
    "jp-MarkdownHeadingCollapsed": true,
    "tags": []
   },
   "source": [
    "## Create job table "
   ]
  },
  {
   "cell_type": "code",
   "execution_count": null,
   "id": "a9947cd4-9d67-4cb6-86b0-a2b18330a18f",
   "metadata": {
    "tags": []
   },
   "outputs": [],
   "source": [
    "job_df = clean_data_df[['job_category','experience_level']]"
   ]
  },
  {
   "cell_type": "code",
   "execution_count": null,
   "id": "c4ce1ac8-6d5d-4b5c-b6b2-11b0e3b65813",
   "metadata": {
    "tags": []
   },
   "outputs": [],
   "source": [
    "job_df"
   ]
  },
  {
   "cell_type": "code",
   "execution_count": null,
   "id": "a194da80-d65a-4462-b486-8271ad40ae2b",
   "metadata": {
    "tags": []
   },
   "outputs": [],
   "source": [
    "job_df.drop_duplicates(inplace=True)"
   ]
  },
  {
   "cell_type": "code",
   "execution_count": null,
   "id": "e7531ab4-78d7-41ad-ac97-377ea0f83961",
   "metadata": {
    "tags": []
   },
   "outputs": [],
   "source": [
    "job_df.reset_index(inplace=True,drop=True)"
   ]
  },
  {
   "cell_type": "code",
   "execution_count": null,
   "id": "f04a21bd-e578-4ac7-846a-53922ffc7d7a",
   "metadata": {
    "tags": []
   },
   "outputs": [],
   "source": [
    "job_df = job_df.sort_values(by='job_category')"
   ]
  },
  {
   "cell_type": "code",
   "execution_count": null,
   "id": "a8cc2678-7972-4975-b4c3-16801a1115e7",
   "metadata": {
    "tags": []
   },
   "outputs": [],
   "source": [
    "job_df.reset_index(inplace=True,drop=True)"
   ]
  },
  {
   "cell_type": "code",
   "execution_count": null,
   "id": "fe27358b-9301-4934-b403-40d7d7c6b89c",
   "metadata": {
    "tags": []
   },
   "outputs": [],
   "source": [
    "job_df['job_id'] = list(range(1,len(job_df)+1))"
   ]
  },
  {
   "cell_type": "code",
   "execution_count": null,
   "id": "ec7708d9-e391-4ae1-9639-3153c637557e",
   "metadata": {
    "tags": []
   },
   "outputs": [],
   "source": [
    "job_df"
   ]
  },
  {
   "cell_type": "code",
   "execution_count": null,
   "id": "81acafbd-1544-4b3e-ade7-7901ac967a08",
   "metadata": {
    "tags": []
   },
   "outputs": [],
   "source": [
    "job_category = job_df['job_category']\n",
    "job_category"
   ]
  },
  {
   "cell_type": "code",
   "execution_count": null,
   "id": "227bc88c-d4d4-4858-b095-91a08363ea7a",
   "metadata": {
    "tags": []
   },
   "outputs": [],
   "source": [
    "job_id = job_df['job_id']\n",
    "job_id"
   ]
  },
  {
   "cell_type": "code",
   "execution_count": null,
   "id": "e644bfe4-2287-435a-a339-8ab29ac6186a",
   "metadata": {
    "tags": []
   },
   "outputs": [],
   "source": [
    "experience_level = job_df['experience_level']\n",
    "experience_level"
   ]
  },
  {
   "cell_type": "code",
   "execution_count": null,
   "id": "d13776d5-08ef-4b4a-90bf-56090de28639",
   "metadata": {
    "tags": []
   },
   "outputs": [],
   "source": [
    "job_mapping = dict(zip(zip(job_df['job_category'], job_df['experience_level']), job_df['job_id']))\n",
    "job_mapping"
   ]
  },
  {
   "cell_type": "code",
   "execution_count": null,
   "id": "a9714172-d44b-4fa7-a9b5-e7e95538c224",
   "metadata": {
    "tags": []
   },
   "outputs": [],
   "source": [
    "def map_job_id(row):\n",
    "    return job_mapping.get((row['job_category'], row['experience_level']))\n",
    "\n",
    "clean_data_df['job_id'] = clean_data_df.apply(map_job_id, axis=1)"
   ]
  },
  {
   "cell_type": "code",
   "execution_count": null,
   "id": "bbdf114c-2ac5-46fb-a763-99f447c732c1",
   "metadata": {
    "tags": []
   },
   "outputs": [],
   "source": [
    "clean_data_df"
   ]
  },
  {
   "cell_type": "code",
   "execution_count": null,
   "id": "01fa627f-384a-4276-a57e-1bbdcf645354",
   "metadata": {},
   "outputs": [],
   "source": [
    "job_df.to_csv(\"job.csv\")"
   ]
  },
  {
   "cell_type": "markdown",
   "id": "4a7911ac-e07c-42b4-a805-8b842b65d0ec",
   "metadata": {
    "jp-MarkdownHeadingCollapsed": true,
    "tags": []
   },
   "source": [
    "## Create work setting table "
   ]
  },
  {
   "cell_type": "code",
   "execution_count": null,
   "id": "df5501ea-3ab2-4306-85aa-c21272443c25",
   "metadata": {
    "tags": []
   },
   "outputs": [],
   "source": [
    "work_setting_df = clean_data_df[['work_setting']]"
   ]
  },
  {
   "cell_type": "code",
   "execution_count": null,
   "id": "b4a8d4f4-f37c-469d-9e51-9033c18115e8",
   "metadata": {
    "tags": []
   },
   "outputs": [],
   "source": [
    "work_setting_df"
   ]
  },
  {
   "cell_type": "code",
   "execution_count": null,
   "id": "2785a6be-ca62-4015-9a9e-1c4d0ddb7171",
   "metadata": {
    "tags": []
   },
   "outputs": [],
   "source": [
    "work_setting_df.drop_duplicates(inplace=True)"
   ]
  },
  {
   "cell_type": "code",
   "execution_count": null,
   "id": "20588f25-2849-4482-8316-e288dab7cf51",
   "metadata": {
    "tags": []
   },
   "outputs": [],
   "source": [
    "work_setting_df.reset_index(inplace=True,drop=True)"
   ]
  },
  {
   "cell_type": "code",
   "execution_count": null,
   "id": "502b85e2-2782-453c-a4f8-afd3a2148610",
   "metadata": {
    "tags": []
   },
   "outputs": [],
   "source": [
    "work_setting_df = work_setting_df.sort_values(by='work_setting')"
   ]
  },
  {
   "cell_type": "code",
   "execution_count": null,
   "id": "5efefc7b-4dc3-40b2-9995-11914bedf2a0",
   "metadata": {
    "tags": []
   },
   "outputs": [],
   "source": [
    "work_setting_df.reset_index(inplace=True,drop=True)"
   ]
  },
  {
   "cell_type": "code",
   "execution_count": null,
   "id": "5da1ea5d-5c3b-46a6-b7b2-5d534bafca85",
   "metadata": {
    "tags": []
   },
   "outputs": [],
   "source": [
    "work_setting_df['work_setting_id'] = list(range(1,len(work_setting_df)+1))"
   ]
  },
  {
   "cell_type": "code",
   "execution_count": null,
   "id": "8702f993-b51a-4409-8ff6-074deca53d38",
   "metadata": {
    "tags": []
   },
   "outputs": [],
   "source": [
    "work_setting_df"
   ]
  },
  {
   "cell_type": "code",
   "execution_count": null,
   "id": "3ba48b8a-359e-45d6-a868-c3197f9ec465",
   "metadata": {
    "tags": []
   },
   "outputs": [],
   "source": [
    "work_setting = work_setting_df['work_setting']\n",
    "work_setting"
   ]
  },
  {
   "cell_type": "code",
   "execution_count": null,
   "id": "a8fab7a3-95c1-4e98-af83-da7da7b9f43d",
   "metadata": {
    "tags": []
   },
   "outputs": [],
   "source": [
    "work_setting_id = work_setting_df['work_setting_id']\n",
    "work_setting_id"
   ]
  },
  {
   "cell_type": "code",
   "execution_count": null,
   "id": "9956f398-7941-4d8f-924b-2bee5a050386",
   "metadata": {
    "tags": []
   },
   "outputs": [],
   "source": [
    "work_setting_mapping = dict(zip(work_setting,work_setting_id))\n",
    "work_setting_mapping"
   ]
  },
  {
   "cell_type": "code",
   "execution_count": null,
   "id": "3405175b-7f01-44be-90c7-a02aa60654a9",
   "metadata": {
    "tags": []
   },
   "outputs": [],
   "source": [
    "clean_data_df['work_setting_id'] = clean_data_df['work_setting'].map(work_setting_mapping)"
   ]
  },
  {
   "cell_type": "code",
   "execution_count": null,
   "id": "88530d77-bbbb-49d3-865a-75b5f04098bd",
   "metadata": {
    "tags": []
   },
   "outputs": [],
   "source": [
    "clean_data_df"
   ]
  },
  {
   "cell_type": "code",
   "execution_count": null,
   "id": "3f9bb33a-496e-4b47-8ced-375728fe6dbe",
   "metadata": {},
   "outputs": [],
   "source": [
    "work_setting_df.to_csv(\"work_setting.csv\")"
   ]
  },
  {
   "cell_type": "markdown",
   "id": "e72dc78e-6f48-41a9-8ac7-7335ed7ceff3",
   "metadata": {
    "jp-MarkdownHeadingCollapsed": true,
    "tags": []
   },
   "source": [
    "## Create employee table "
   ]
  },
  {
   "cell_type": "code",
   "execution_count": null,
   "id": "e1a74689-ddd5-4ece-a9e6-081324c0b844",
   "metadata": {
    "tags": []
   },
   "outputs": [],
   "source": [
    "employee_df = clean_data_df"
   ]
  },
  {
   "cell_type": "code",
   "execution_count": null,
   "id": "b6a889a9-ab5e-4ddd-ac7b-5696dc0437e8",
   "metadata": {
    "tags": []
   },
   "outputs": [],
   "source": [
    "employee_df = employee_df.drop(['job_category', 'country','salary_in_usd','experience_level','global_average_salary'], axis=1)"
   ]
  },
  {
   "cell_type": "code",
   "execution_count": null,
   "id": "38e8472b-2299-4a6e-87b7-a9b8e1a8e68d",
   "metadata": {
    "tags": []
   },
   "outputs": [],
   "source": [
    "employee_df"
   ]
  },
  {
   "cell_type": "code",
   "execution_count": null,
   "id": "bf00c52f-36dd-4092-bc25-a60dd1c660b6",
   "metadata": {
    "tags": []
   },
   "outputs": [],
   "source": [
    "employee_df.to_csv(\"employee.csv\")"
   ]
  }
 ],
 "metadata": {
  "kernelspec": {
   "display_name": "Python 3 (ipykernel)",
   "language": "python",
   "name": "python3"
  },
  "language_info": {
   "codemirror_mode": {
    "name": "ipython",
    "version": 3
   },
   "file_extension": ".py",
   "mimetype": "text/x-python",
   "name": "python",
   "nbconvert_exporter": "python",
   "pygments_lexer": "ipython3",
   "version": "3.11.5"
  }
 },
 "nbformat": 4,
 "nbformat_minor": 5
}
