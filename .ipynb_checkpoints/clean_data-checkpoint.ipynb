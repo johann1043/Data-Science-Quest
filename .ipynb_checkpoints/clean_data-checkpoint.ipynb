{
 "cells": [
  {
   "cell_type": "code",
   "execution_count": null,
   "id": "4d730624-eae1-4e37-aa3c-563517f9d379",
   "metadata": {
    "tags": []
   },
   "outputs": [],
   "source": [
    "pip install xlrd"
   ]
  },
  {
   "cell_type": "code",
   "execution_count": null,
   "id": "f41cfaf1-f01e-4526-b09e-ad235a1f5ba7",
   "metadata": {
    "tags": []
   },
   "outputs": [],
   "source": [
    "#Importing our defined functions\n",
    "from clean_data_functions import *"
   ]
  },
  {
   "cell_type": "code",
   "execution_count": null,
   "id": "edb7d590-6425-4aa0-8298-6bc0d0a246b0",
   "metadata": {
    "tags": []
   },
   "outputs": [],
   "source": [
    "import pandas as pd\n",
    "\n",
    "url = 'https://raw.githubusercontent.com/johann1043/Data-Science-Quest/main/jobs_in_data.csv'\n",
    "data_science_df = pd.read_csv(url)"
   ]
  },
  {
   "cell_type": "markdown",
   "id": "917071ab-c652-41d0-a321-710e0295119c",
   "metadata": {
    "tags": []
   },
   "source": [
    "# Cleaning data_science Data Frame"
   ]
  },
  {
   "cell_type": "code",
   "execution_count": null,
   "id": "fc3af6c8-4eaa-4d3d-83eb-96d38451a37c",
   "metadata": {
    "tags": []
   },
   "outputs": [],
   "source": [
    "#Getting initial overview of data frame\n",
    "data_frame_overview(data_science_df)"
   ]
  },
  {
   "cell_type": "code",
   "execution_count": null,
   "id": "4e7f7a6f-3860-4474-ba77-33d8ee8c4b6a",
   "metadata": {
    "tags": []
   },
   "outputs": [],
   "source": [
    "#Applying the reformatting the names of the columns\n",
    "column_name_mapping = {'work_year' : 'year', 'employee_residence' : 'country'}\n",
    "\n",
    "format_column_names(data_science_df, column_name_mapping)"
   ]
  },
  {
   "cell_type": "code",
   "execution_count": null,
   "id": "087cfe8f-f89f-4a79-8aa8-1d36d096f517",
   "metadata": {
    "tags": []
   },
   "outputs": [],
   "source": [
    "null_check(data_science_df)"
   ]
  },
  {
   "cell_type": "code",
   "execution_count": null,
   "id": "5a936fd6-d2d4-4892-8e41-fdddfc7d107b",
   "metadata": {
    "tags": []
   },
   "outputs": [],
   "source": [
    "# dup_check(data_science_df)"
   ]
  },
  {
   "cell_type": "code",
   "execution_count": null,
   "id": "cc36ad8f-01da-4947-81f6-9f15cbfa3225",
   "metadata": {
    "tags": []
   },
   "outputs": [],
   "source": [
    "# duplicates = data_science_df.duplicated(keep=False)\n",
    "\n",
    "# duplicate_rows = data_science_df.loc[duplicates]\n",
    "# print(duplicate_rows)"
   ]
  },
  {
   "cell_type": "code",
   "execution_count": null,
   "id": "2ac9e10b-d6bc-48fd-9058-5d638f11ea85",
   "metadata": {
    "tags": []
   },
   "outputs": [],
   "source": [
    "# drop_dup_reset(data_science_df)"
   ]
  },
  {
   "cell_type": "code",
   "execution_count": null,
   "id": "6d9dde7d-531f-4050-8283-bff19118e790",
   "metadata": {
    "tags": []
   },
   "outputs": [],
   "source": []
  },
  {
   "cell_type": "code",
   "execution_count": null,
   "id": "ab472f2c-b9b3-4a26-96b6-540d8f4d0496",
   "metadata": {
    "tags": []
   },
   "outputs": [],
   "source": [
    "data_science_df = data_science_df.drop(['job_title', 'salary_currency','salary','company_location','company_size'], axis=1)\n",
    "data_science_df"
   ]
  },
  {
   "cell_type": "code",
   "execution_count": null,
   "id": "2fe737b2-b1d9-46e8-9143-0674e196200e",
   "metadata": {
    "tags": []
   },
   "outputs": [],
   "source": [
    "data_science_df = data_science_df[data_science_df['employment_type'] == 'Full-time']\n",
    "data_science_df"
   ]
  },
  {
   "cell_type": "code",
   "execution_count": null,
   "id": "938123d0-51f4-4513-b1bb-2150e8f8cdf2",
   "metadata": {
    "tags": []
   },
   "outputs": [],
   "source": [
    "data_science_df = data_science_df.drop(['employment_type'], axis=1)\n",
    "data_science_df"
   ]
  },
  {
   "cell_type": "markdown",
   "id": "ab925223-edda-44d7-be1d-a39147ebc493",
   "metadata": {},
   "source": [
    "# Cleaning global_salary Data Frame"
   ]
  },
  {
   "cell_type": "code",
   "execution_count": null,
   "id": "981e158e-8c5d-4668-af11-adf0d111ab99",
   "metadata": {
    "tags": []
   },
   "outputs": [],
   "source": [
    "import pandas as pd\n",
    "\n",
    "url = 'https://raw.githubusercontent.com/johann1043/Data-Science-Quest/main/salary_data.csv'\n",
    "global_salary_df = pd.read_csv(url)"
   ]
  },
  {
   "cell_type": "code",
   "execution_count": null,
   "id": "36c75b37-2582-4bee-83e6-d6130e2ba023",
   "metadata": {
    "tags": []
   },
   "outputs": [],
   "source": [
    "global_salary_df"
   ]
  },
  {
   "cell_type": "code",
   "execution_count": null,
   "id": "46cd8edb-1756-4ff2-93fe-1b7ff41d0b57",
   "metadata": {
    "tags": []
   },
   "outputs": [],
   "source": [
    "#Getting initial overview of data frame\n",
    "data_frame_overview(global_salary_df)"
   ]
  },
  {
   "cell_type": "code",
   "execution_count": null,
   "id": "9560c9a3-12aa-4991-a1af-848d51d01308",
   "metadata": {
    "tags": []
   },
   "outputs": [],
   "source": [
    "#Applying the reformatting the names of the columns\n",
    "column_name_mapping = {'country_name' : 'country', 'average_salary': 'global_average_salary'}\n",
    "\n",
    "format_column_names(global_salary_df, column_name_mapping)"
   ]
  },
  {
   "cell_type": "code",
   "execution_count": null,
   "id": "be2e9f22-a535-4e37-a770-18c1207bab62",
   "metadata": {
    "tags": []
   },
   "outputs": [],
   "source": [
    "null_check(global_salary_df)"
   ]
  },
  {
   "cell_type": "code",
   "execution_count": null,
   "id": "be08aa49-40d4-4cfa-884d-37a2c32ffcae",
   "metadata": {
    "tags": []
   },
   "outputs": [],
   "source": [
    "dup_check(global_salary_df)"
   ]
  },
  {
   "cell_type": "code",
   "execution_count": null,
   "id": "f4d1314e-de99-482e-ba0f-bf04cfeccb90",
   "metadata": {
    "tags": []
   },
   "outputs": [],
   "source": [
    "global_salary_df = global_salary_df.drop(['continent_name', 'wage_span','median_salary','lowest_salary','highest_salary'], axis=1)\n",
    "global_salary_df"
   ]
  },
  {
   "cell_type": "code",
   "execution_count": null,
   "id": "355f8637-415e-4398-a99c-6315d01641ee",
   "metadata": {
    "tags": []
   },
   "outputs": [],
   "source": [
    "global_salary_df['global_average_salary'] = global_salary_df['global_average_salary'].map(lambda x: x * 12).round(0)\n",
    "global_salary_df"
   ]
  },
  {
   "cell_type": "code",
   "execution_count": null,
   "id": "6a25e435-4bfb-4ccb-84dc-19154222d648",
   "metadata": {
    "tags": []
   },
   "outputs": [],
   "source": [
    "country_list = data_science_df['country'].unique()"
   ]
  },
  {
   "cell_type": "code",
   "execution_count": null,
   "id": "bdff7add-a8e2-4513-b865-a53e57e0d51d",
   "metadata": {
    "tags": []
   },
   "outputs": [],
   "source": [
    "for country in country_list:\n",
    "    # Check if the country is in the 'country' column of global_salary_df\n",
    "    if country in global_salary_df['country'].values:\n",
    "        True\n",
    "    else:\n",
    "        print(f'Cannot find {country}.')\n"
   ]
  },
  {
   "cell_type": "markdown",
   "id": "33583e70-5c0c-4c6c-8635-f6fda46bce7d",
   "metadata": {},
   "source": [
    "# Merge the two Data Frames and export"
   ]
  },
  {
   "cell_type": "code",
   "execution_count": null,
   "id": "c4263b97-a22d-488e-9578-335c20d17ec1",
   "metadata": {
    "tags": []
   },
   "outputs": [],
   "source": [
    "# Merge DataFrames on the common column\n",
    "clean_data_df = pd.merge(data_science_df, global_salary_df, on='country', how='inner')\n",
    "clean_data_df"
   ]
  },
  {
   "cell_type": "code",
   "execution_count": null,
   "id": "347428f4-d7cb-4a50-9b68-24b0db4f7b4a",
   "metadata": {
    "tags": []
   },
   "outputs": [],
   "source": [
    "# Export\n",
    "# clean_data_df.to_csv('clean_data.csv', index=False)\n"
   ]
  },
  {
   "cell_type": "markdown",
   "id": "be556cf1-a1a5-499d-81f5-fff0cb537fab",
   "metadata": {},
   "source": [
    "# Create Tables"
   ]
  },
  {
   "cell_type": "code",
   "execution_count": null,
   "id": "a8b7ad5d-c536-4436-b9e5-360d827e2d82",
   "metadata": {},
   "outputs": [],
   "source": [
    "clean_data_df.reset_index(inplace=True)"
   ]
  },
  {
   "cell_type": "code",
   "execution_count": 247,
   "id": "a5545f70-ba24-448c-bcce-0aa9b70f221f",
   "metadata": {
    "tags": []
   },
   "outputs": [
    {
     "data": {
      "text/html": [
       "<div>\n",
       "<style scoped>\n",
       "    .dataframe tbody tr th:only-of-type {\n",
       "        vertical-align: middle;\n",
       "    }\n",
       "\n",
       "    .dataframe tbody tr th {\n",
       "        vertical-align: top;\n",
       "    }\n",
       "\n",
       "    .dataframe thead th {\n",
       "        text-align: right;\n",
       "    }\n",
       "</style>\n",
       "<table border=\"1\" class=\"dataframe\">\n",
       "  <thead>\n",
       "    <tr style=\"text-align: right;\">\n",
       "      <th></th>\n",
       "      <th>index</th>\n",
       "      <th>year</th>\n",
       "      <th>job_category</th>\n",
       "      <th>salary_in_usd</th>\n",
       "      <th>country</th>\n",
       "      <th>experience_level</th>\n",
       "      <th>work_setting</th>\n",
       "      <th>global_average_salary</th>\n",
       "      <th>global_salary_id</th>\n",
       "      <th>country_id</th>\n",
       "    </tr>\n",
       "  </thead>\n",
       "  <tbody>\n",
       "    <tr>\n",
       "      <th>0</th>\n",
       "      <td>0</td>\n",
       "      <td>2023</td>\n",
       "      <td>Data Engineering</td>\n",
       "      <td>95012</td>\n",
       "      <td>Germany</td>\n",
       "      <td>Mid-level</td>\n",
       "      <td>Hybrid</td>\n",
       "      <td>48584.0</td>\n",
       "      <td>55</td>\n",
       "      <td>26</td>\n",
       "    </tr>\n",
       "    <tr>\n",
       "      <th>1</th>\n",
       "      <td>1</td>\n",
       "      <td>2023</td>\n",
       "      <td>Data Analysis</td>\n",
       "      <td>42107</td>\n",
       "      <td>Germany</td>\n",
       "      <td>Mid-level</td>\n",
       "      <td>Hybrid</td>\n",
       "      <td>48584.0</td>\n",
       "      <td>55</td>\n",
       "      <td>26</td>\n",
       "    </tr>\n",
       "    <tr>\n",
       "      <th>2</th>\n",
       "      <td>2</td>\n",
       "      <td>2023</td>\n",
       "      <td>Machine Learning and AI</td>\n",
       "      <td>64781</td>\n",
       "      <td>Germany</td>\n",
       "      <td>Senior</td>\n",
       "      <td>Hybrid</td>\n",
       "      <td>48584.0</td>\n",
       "      <td>55</td>\n",
       "      <td>26</td>\n",
       "    </tr>\n",
       "    <tr>\n",
       "      <th>3</th>\n",
       "      <td>3</td>\n",
       "      <td>2023</td>\n",
       "      <td>Machine Learning and AI</td>\n",
       "      <td>129562</td>\n",
       "      <td>Germany</td>\n",
       "      <td>Senior</td>\n",
       "      <td>Remote</td>\n",
       "      <td>48584.0</td>\n",
       "      <td>55</td>\n",
       "      <td>26</td>\n",
       "    </tr>\n",
       "    <tr>\n",
       "      <th>4</th>\n",
       "      <td>4</td>\n",
       "      <td>2023</td>\n",
       "      <td>Data Engineering</td>\n",
       "      <td>107968</td>\n",
       "      <td>Germany</td>\n",
       "      <td>Senior</td>\n",
       "      <td>Remote</td>\n",
       "      <td>48584.0</td>\n",
       "      <td>55</td>\n",
       "      <td>26</td>\n",
       "    </tr>\n",
       "    <tr>\n",
       "      <th>...</th>\n",
       "      <td>...</td>\n",
       "      <td>...</td>\n",
       "      <td>...</td>\n",
       "      <td>...</td>\n",
       "      <td>...</td>\n",
       "      <td>...</td>\n",
       "      <td>...</td>\n",
       "      <td>...</td>\n",
       "      <td>...</td>\n",
       "      <td>...</td>\n",
       "    </tr>\n",
       "    <tr>\n",
       "      <th>9302</th>\n",
       "      <td>9302</td>\n",
       "      <td>2020</td>\n",
       "      <td>Data Engineering</td>\n",
       "      <td>125000</td>\n",
       "      <td>New Zealand</td>\n",
       "      <td>Senior</td>\n",
       "      <td>Hybrid</td>\n",
       "      <td>58441.0</td>\n",
       "      <td>63</td>\n",
       "      <td>48</td>\n",
       "    </tr>\n",
       "    <tr>\n",
       "      <th>9303</th>\n",
       "      <td>9303</td>\n",
       "      <td>2021</td>\n",
       "      <td>Data Engineering</td>\n",
       "      <td>66022</td>\n",
       "      <td>Hong Kong</td>\n",
       "      <td>Mid-level</td>\n",
       "      <td>Hybrid</td>\n",
       "      <td>56245.0</td>\n",
       "      <td>62</td>\n",
       "      <td>30</td>\n",
       "    </tr>\n",
       "    <tr>\n",
       "      <th>9304</th>\n",
       "      <td>9304</td>\n",
       "      <td>2020</td>\n",
       "      <td>Machine Learning and AI</td>\n",
       "      <td>45896</td>\n",
       "      <td>Denmark</td>\n",
       "      <td>Entry-level</td>\n",
       "      <td>Hybrid</td>\n",
       "      <td>69348.0</td>\n",
       "      <td>69</td>\n",
       "      <td>19</td>\n",
       "    </tr>\n",
       "    <tr>\n",
       "      <th>9305</th>\n",
       "      <td>9305</td>\n",
       "      <td>2021</td>\n",
       "      <td>Data Analysis</td>\n",
       "      <td>59102</td>\n",
       "      <td>Luxembourg</td>\n",
       "      <td>Entry-level</td>\n",
       "      <td>Remote</td>\n",
       "      <td>62537.0</td>\n",
       "      <td>68</td>\n",
       "      <td>41</td>\n",
       "    </tr>\n",
       "    <tr>\n",
       "      <th>9306</th>\n",
       "      <td>9306</td>\n",
       "      <td>2021</td>\n",
       "      <td>Data Engineering</td>\n",
       "      <td>28369</td>\n",
       "      <td>Malta</td>\n",
       "      <td>Mid-level</td>\n",
       "      <td>Hybrid</td>\n",
       "      <td>58858.0</td>\n",
       "      <td>65</td>\n",
       "      <td>43</td>\n",
       "    </tr>\n",
       "  </tbody>\n",
       "</table>\n",
       "<p>9307 rows × 10 columns</p>\n",
       "</div>"
      ],
      "text/plain": [
       "      index  year             job_category  salary_in_usd      country  \\\n",
       "0         0  2023         Data Engineering          95012      Germany   \n",
       "1         1  2023            Data Analysis          42107      Germany   \n",
       "2         2  2023  Machine Learning and AI          64781      Germany   \n",
       "3         3  2023  Machine Learning and AI         129562      Germany   \n",
       "4         4  2023         Data Engineering         107968      Germany   \n",
       "...     ...   ...                      ...            ...          ...   \n",
       "9302   9302  2020         Data Engineering         125000  New Zealand   \n",
       "9303   9303  2021         Data Engineering          66022    Hong Kong   \n",
       "9304   9304  2020  Machine Learning and AI          45896      Denmark   \n",
       "9305   9305  2021            Data Analysis          59102   Luxembourg   \n",
       "9306   9306  2021         Data Engineering          28369        Malta   \n",
       "\n",
       "     experience_level work_setting  global_average_salary  global_salary_id  \\\n",
       "0           Mid-level       Hybrid                48584.0                55   \n",
       "1           Mid-level       Hybrid                48584.0                55   \n",
       "2              Senior       Hybrid                48584.0                55   \n",
       "3              Senior       Remote                48584.0                55   \n",
       "4              Senior       Remote                48584.0                55   \n",
       "...               ...          ...                    ...               ...   \n",
       "9302           Senior       Hybrid                58441.0                63   \n",
       "9303        Mid-level       Hybrid                56245.0                62   \n",
       "9304      Entry-level       Hybrid                69348.0                69   \n",
       "9305      Entry-level       Remote                62537.0                68   \n",
       "9306        Mid-level       Hybrid                58858.0                65   \n",
       "\n",
       "      country_id  \n",
       "0             26  \n",
       "1             26  \n",
       "2             26  \n",
       "3             26  \n",
       "4             26  \n",
       "...          ...  \n",
       "9302          48  \n",
       "9303          30  \n",
       "9304          19  \n",
       "9305          41  \n",
       "9306          43  \n",
       "\n",
       "[9307 rows x 10 columns]"
      ]
     },
     "execution_count": 247,
     "metadata": {},
     "output_type": "execute_result"
    }
   ],
   "source": [
    "clean_data_df"
   ]
  },
  {
   "cell_type": "markdown",
   "id": "9ec56283-d4dd-4c71-a484-a1f3dd1b46c5",
   "metadata": {
    "tags": []
   },
   "source": [
    "## Create global_average_salary table "
   ]
  },
  {
   "cell_type": "code",
   "execution_count": null,
   "id": "d703d5f2-1d5b-43c9-975d-1911656e4b75",
   "metadata": {
    "tags": []
   },
   "outputs": [],
   "source": [
    "global_average_salary = sorted(list(clean_data_df['global_average_salary'].unique()))\n",
    "global_average_salary"
   ]
  },
  {
   "cell_type": "code",
   "execution_count": null,
   "id": "d137da79-d171-4f0a-b95f-5ecf82021bb2",
   "metadata": {
    "tags": []
   },
   "outputs": [],
   "source": [
    "global_salary_id = list(range(1,len(global_average_salary)+1))\n",
    "global_salary_id"
   ]
  },
  {
   "cell_type": "code",
   "execution_count": null,
   "id": "701335ef-6e1f-4020-a468-eb35b7233e21",
   "metadata": {
    "tags": []
   },
   "outputs": [],
   "source": [
    "global_average_salary_mapping = dict(zip(global_average_salary,global_salary_id))\n",
    "global_average_salary_mapping"
   ]
  },
  {
   "cell_type": "code",
   "execution_count": null,
   "id": "95f60e80-2506-48c8-b486-1d9af5174eb1",
   "metadata": {
    "tags": []
   },
   "outputs": [],
   "source": [
    "clean_data_df['global_salary_id'] = clean_data_df['global_average_salary'].map(global_average_salary_mapping)"
   ]
  },
  {
   "cell_type": "code",
   "execution_count": null,
   "id": "f4dfd3f1-2446-44d2-b418-0cbda795ba2d",
   "metadata": {
    "tags": []
   },
   "outputs": [],
   "source": [
    "clean_data_df['global_salary_id']"
   ]
  },
  {
   "cell_type": "code",
   "execution_count": null,
   "id": "0aee2f8b-e8df-4306-adaa-041a85f7f866",
   "metadata": {
    "tags": []
   },
   "outputs": [],
   "source": [
    "global_average_salary_dict = {'global_salary_id':global_salary_id, 'global_average_salary':global_average_salary}\n",
    "global_average_salary_df = pd.DataFrame(global_average_salary_dict)\n",
    "global_average_salary_df"
   ]
  },
  {
   "cell_type": "code",
   "execution_count": null,
   "id": "d440aa14-db45-41f6-878f-083896937c68",
   "metadata": {},
   "outputs": [],
   "source": [
    "# global_average_salary_df.to_csv(\"global_average_salary.csv\")"
   ]
  },
  {
   "cell_type": "markdown",
   "id": "1775f3e2-2d86-469b-85e1-d4d4516c5e29",
   "metadata": {},
   "source": [
    "## Create country table "
   ]
  },
  {
   "cell_type": "code",
   "execution_count": null,
   "id": "0f4dfd01-e634-4988-968b-09026791b5c7",
   "metadata": {},
   "outputs": [],
   "source": [
    "country_df = clean_data_df[['country','global_salary_id']]"
   ]
  },
  {
   "cell_type": "code",
   "execution_count": null,
   "id": "5188e06f-50ca-4062-8d1e-1c2c5c1eeb15",
   "metadata": {
    "tags": []
   },
   "outputs": [],
   "source": [
    "country_df.drop_duplicates(inplace=True)"
   ]
  },
  {
   "cell_type": "code",
   "execution_count": null,
   "id": "c4c85564-e57c-41d9-bb09-4aed0a5fb470",
   "metadata": {
    "tags": []
   },
   "outputs": [],
   "source": [
    "country_df.reset_index(inplace=True,drop=True)"
   ]
  },
  {
   "cell_type": "code",
   "execution_count": null,
   "id": "4cdab8a4-44bd-4e96-9534-a535e74281c4",
   "metadata": {
    "tags": []
   },
   "outputs": [],
   "source": [
    "country_df = country_df.sort_values(by='country')"
   ]
  },
  {
   "cell_type": "code",
   "execution_count": null,
   "id": "26d6374a-bc14-4d23-8feb-bbf0d97a561f",
   "metadata": {
    "tags": []
   },
   "outputs": [],
   "source": [
    "country_df.reset_index(inplace=True,drop=True)"
   ]
  },
  {
   "cell_type": "code",
   "execution_count": null,
   "id": "18750565-8669-457e-8452-b8670547768c",
   "metadata": {
    "tags": []
   },
   "outputs": [],
   "source": [
    "country_df['country_id'] = list(range(1,len(country_df)+1))"
   ]
  },
  {
   "cell_type": "code",
   "execution_count": null,
   "id": "78673ea5-974b-465a-8e2b-3e2f36c1f5e8",
   "metadata": {
    "tags": []
   },
   "outputs": [],
   "source": [
    "country_df"
   ]
  },
  {
   "cell_type": "code",
   "execution_count": null,
   "id": "5f6b8e2a-0c8c-44b2-9d62-e1fb30e9490e",
   "metadata": {
    "tags": []
   },
   "outputs": [],
   "source": [
    "country = country_df['country']\n",
    "country"
   ]
  },
  {
   "cell_type": "code",
   "execution_count": null,
   "id": "0fb8e224-b861-4702-bc30-2b92738cc91a",
   "metadata": {
    "tags": []
   },
   "outputs": [],
   "source": [
    "country_id = country_df['country_id']\n",
    "country_id"
   ]
  },
  {
   "cell_type": "code",
   "execution_count": null,
   "id": "f5db9b73-6a7f-4d5a-b44b-9b7084b6b200",
   "metadata": {
    "tags": []
   },
   "outputs": [],
   "source": [
    "country_mapping = dict(zip(country,country_id))\n",
    "country_mapping"
   ]
  },
  {
   "cell_type": "code",
   "execution_count": null,
   "id": "f55b4d17-b0f3-4cb1-bad6-c31847b00880",
   "metadata": {
    "tags": []
   },
   "outputs": [],
   "source": [
    "clean_data_df['country_id'] = clean_data_df['country'].map(country_mapping)"
   ]
  },
  {
   "cell_type": "code",
   "execution_count": null,
   "id": "87bb4d44-b586-420c-8ab7-1be56fe1603c",
   "metadata": {
    "tags": []
   },
   "outputs": [],
   "source": [
    "clean_data_df"
   ]
  },
  {
   "cell_type": "code",
   "execution_count": null,
   "id": "e58f57f0-ffc8-4064-8b41-f72994056424",
   "metadata": {
    "tags": []
   },
   "outputs": [],
   "source": [
    "# country_df.to_csv(\"country.csv\")"
   ]
  },
  {
   "cell_type": "markdown",
   "id": "087cb158-403f-4113-b308-134ae22e6b3a",
   "metadata": {
    "tags": []
   },
   "source": [
    "## Create job table "
   ]
  },
  {
   "cell_type": "code",
   "execution_count": 248,
   "id": "a9947cd4-9d67-4cb6-86b0-a2b18330a18f",
   "metadata": {
    "tags": []
   },
   "outputs": [],
   "source": [
    "job_df = clean_data_df[['job_category','experience_level']]"
   ]
  },
  {
   "cell_type": "code",
   "execution_count": 249,
   "id": "c4ce1ac8-6d5d-4b5c-b6b2-11b0e3b65813",
   "metadata": {
    "tags": []
   },
   "outputs": [
    {
     "data": {
      "text/html": [
       "<div>\n",
       "<style scoped>\n",
       "    .dataframe tbody tr th:only-of-type {\n",
       "        vertical-align: middle;\n",
       "    }\n",
       "\n",
       "    .dataframe tbody tr th {\n",
       "        vertical-align: top;\n",
       "    }\n",
       "\n",
       "    .dataframe thead th {\n",
       "        text-align: right;\n",
       "    }\n",
       "</style>\n",
       "<table border=\"1\" class=\"dataframe\">\n",
       "  <thead>\n",
       "    <tr style=\"text-align: right;\">\n",
       "      <th></th>\n",
       "      <th>job_category</th>\n",
       "      <th>experience_level</th>\n",
       "    </tr>\n",
       "  </thead>\n",
       "  <tbody>\n",
       "    <tr>\n",
       "      <th>0</th>\n",
       "      <td>Data Engineering</td>\n",
       "      <td>Mid-level</td>\n",
       "    </tr>\n",
       "    <tr>\n",
       "      <th>1</th>\n",
       "      <td>Data Analysis</td>\n",
       "      <td>Mid-level</td>\n",
       "    </tr>\n",
       "    <tr>\n",
       "      <th>2</th>\n",
       "      <td>Machine Learning and AI</td>\n",
       "      <td>Senior</td>\n",
       "    </tr>\n",
       "    <tr>\n",
       "      <th>3</th>\n",
       "      <td>Machine Learning and AI</td>\n",
       "      <td>Senior</td>\n",
       "    </tr>\n",
       "    <tr>\n",
       "      <th>4</th>\n",
       "      <td>Data Engineering</td>\n",
       "      <td>Senior</td>\n",
       "    </tr>\n",
       "    <tr>\n",
       "      <th>...</th>\n",
       "      <td>...</td>\n",
       "      <td>...</td>\n",
       "    </tr>\n",
       "    <tr>\n",
       "      <th>9302</th>\n",
       "      <td>Data Engineering</td>\n",
       "      <td>Senior</td>\n",
       "    </tr>\n",
       "    <tr>\n",
       "      <th>9303</th>\n",
       "      <td>Data Engineering</td>\n",
       "      <td>Mid-level</td>\n",
       "    </tr>\n",
       "    <tr>\n",
       "      <th>9304</th>\n",
       "      <td>Machine Learning and AI</td>\n",
       "      <td>Entry-level</td>\n",
       "    </tr>\n",
       "    <tr>\n",
       "      <th>9305</th>\n",
       "      <td>Data Analysis</td>\n",
       "      <td>Entry-level</td>\n",
       "    </tr>\n",
       "    <tr>\n",
       "      <th>9306</th>\n",
       "      <td>Data Engineering</td>\n",
       "      <td>Mid-level</td>\n",
       "    </tr>\n",
       "  </tbody>\n",
       "</table>\n",
       "<p>9307 rows × 2 columns</p>\n",
       "</div>"
      ],
      "text/plain": [
       "                 job_category experience_level\n",
       "0            Data Engineering        Mid-level\n",
       "1               Data Analysis        Mid-level\n",
       "2     Machine Learning and AI           Senior\n",
       "3     Machine Learning and AI           Senior\n",
       "4            Data Engineering           Senior\n",
       "...                       ...              ...\n",
       "9302         Data Engineering           Senior\n",
       "9303         Data Engineering        Mid-level\n",
       "9304  Machine Learning and AI      Entry-level\n",
       "9305            Data Analysis      Entry-level\n",
       "9306         Data Engineering        Mid-level\n",
       "\n",
       "[9307 rows x 2 columns]"
      ]
     },
     "execution_count": 249,
     "metadata": {},
     "output_type": "execute_result"
    }
   ],
   "source": [
    "job_df"
   ]
  },
  {
   "cell_type": "code",
   "execution_count": 250,
   "id": "a194da80-d65a-4462-b486-8271ad40ae2b",
   "metadata": {
    "tags": []
   },
   "outputs": [
    {
     "name": "stderr",
     "output_type": "stream",
     "text": [
      "C:\\Users\\vonke\\AppData\\Local\\Temp\\ipykernel_11028\\1880147904.py:1: SettingWithCopyWarning: \n",
      "A value is trying to be set on a copy of a slice from a DataFrame\n",
      "\n",
      "See the caveats in the documentation: https://pandas.pydata.org/pandas-docs/stable/user_guide/indexing.html#returning-a-view-versus-a-copy\n",
      "  job_df.drop_duplicates(inplace=True)\n"
     ]
    }
   ],
   "source": [
    "job_df.drop_duplicates(inplace=True)"
   ]
  },
  {
   "cell_type": "code",
   "execution_count": 251,
   "id": "e7531ab4-78d7-41ad-ac97-377ea0f83961",
   "metadata": {
    "tags": []
   },
   "outputs": [],
   "source": [
    "job_df.reset_index(inplace=True,drop=True)"
   ]
  },
  {
   "cell_type": "code",
   "execution_count": 252,
   "id": "f04a21bd-e578-4ac7-846a-53922ffc7d7a",
   "metadata": {
    "tags": []
   },
   "outputs": [],
   "source": [
    "job_df = job_df.sort_values(by='job_category')"
   ]
  },
  {
   "cell_type": "code",
   "execution_count": 253,
   "id": "a8cc2678-7972-4975-b4c3-16801a1115e7",
   "metadata": {
    "tags": []
   },
   "outputs": [],
   "source": [
    "job_df.reset_index(inplace=True,drop=True)"
   ]
  },
  {
   "cell_type": "code",
   "execution_count": 254,
   "id": "fe27358b-9301-4934-b403-40d7d7c6b89c",
   "metadata": {
    "tags": []
   },
   "outputs": [],
   "source": [
    "job_df['job_id'] = list(range(1,len(job_df)+1))"
   ]
  },
  {
   "cell_type": "code",
   "execution_count": 255,
   "id": "ec7708d9-e391-4ae1-9639-3153c637557e",
   "metadata": {
    "tags": []
   },
   "outputs": [
    {
     "data": {
      "text/html": [
       "<div>\n",
       "<style scoped>\n",
       "    .dataframe tbody tr th:only-of-type {\n",
       "        vertical-align: middle;\n",
       "    }\n",
       "\n",
       "    .dataframe tbody tr th {\n",
       "        vertical-align: top;\n",
       "    }\n",
       "\n",
       "    .dataframe thead th {\n",
       "        text-align: right;\n",
       "    }\n",
       "</style>\n",
       "<table border=\"1\" class=\"dataframe\">\n",
       "  <thead>\n",
       "    <tr style=\"text-align: right;\">\n",
       "      <th></th>\n",
       "      <th>job_category</th>\n",
       "      <th>experience_level</th>\n",
       "      <th>job_id</th>\n",
       "    </tr>\n",
       "  </thead>\n",
       "  <tbody>\n",
       "    <tr>\n",
       "      <th>0</th>\n",
       "      <td>BI and Visualization</td>\n",
       "      <td>Mid-level</td>\n",
       "      <td>1</td>\n",
       "    </tr>\n",
       "    <tr>\n",
       "      <th>1</th>\n",
       "      <td>BI and Visualization</td>\n",
       "      <td>Senior</td>\n",
       "      <td>2</td>\n",
       "    </tr>\n",
       "    <tr>\n",
       "      <th>2</th>\n",
       "      <td>BI and Visualization</td>\n",
       "      <td>Executive</td>\n",
       "      <td>3</td>\n",
       "    </tr>\n",
       "    <tr>\n",
       "      <th>3</th>\n",
       "      <td>BI and Visualization</td>\n",
       "      <td>Entry-level</td>\n",
       "      <td>4</td>\n",
       "    </tr>\n",
       "    <tr>\n",
       "      <th>4</th>\n",
       "      <td>Cloud and Database</td>\n",
       "      <td>Senior</td>\n",
       "      <td>5</td>\n",
       "    </tr>\n",
       "    <tr>\n",
       "      <th>5</th>\n",
       "      <td>Data Analysis</td>\n",
       "      <td>Senior</td>\n",
       "      <td>6</td>\n",
       "    </tr>\n",
       "    <tr>\n",
       "      <th>6</th>\n",
       "      <td>Data Analysis</td>\n",
       "      <td>Executive</td>\n",
       "      <td>7</td>\n",
       "    </tr>\n",
       "    <tr>\n",
       "      <th>7</th>\n",
       "      <td>Data Analysis</td>\n",
       "      <td>Entry-level</td>\n",
       "      <td>8</td>\n",
       "    </tr>\n",
       "    <tr>\n",
       "      <th>8</th>\n",
       "      <td>Data Analysis</td>\n",
       "      <td>Mid-level</td>\n",
       "      <td>9</td>\n",
       "    </tr>\n",
       "    <tr>\n",
       "      <th>9</th>\n",
       "      <td>Data Architecture and Modeling</td>\n",
       "      <td>Mid-level</td>\n",
       "      <td>10</td>\n",
       "    </tr>\n",
       "    <tr>\n",
       "      <th>10</th>\n",
       "      <td>Data Architecture and Modeling</td>\n",
       "      <td>Senior</td>\n",
       "      <td>11</td>\n",
       "    </tr>\n",
       "    <tr>\n",
       "      <th>11</th>\n",
       "      <td>Data Architecture and Modeling</td>\n",
       "      <td>Executive</td>\n",
       "      <td>12</td>\n",
       "    </tr>\n",
       "    <tr>\n",
       "      <th>12</th>\n",
       "      <td>Data Engineering</td>\n",
       "      <td>Executive</td>\n",
       "      <td>13</td>\n",
       "    </tr>\n",
       "    <tr>\n",
       "      <th>13</th>\n",
       "      <td>Data Engineering</td>\n",
       "      <td>Senior</td>\n",
       "      <td>14</td>\n",
       "    </tr>\n",
       "    <tr>\n",
       "      <th>14</th>\n",
       "      <td>Data Engineering</td>\n",
       "      <td>Entry-level</td>\n",
       "      <td>15</td>\n",
       "    </tr>\n",
       "    <tr>\n",
       "      <th>15</th>\n",
       "      <td>Data Engineering</td>\n",
       "      <td>Mid-level</td>\n",
       "      <td>16</td>\n",
       "    </tr>\n",
       "    <tr>\n",
       "      <th>16</th>\n",
       "      <td>Data Management and Strategy</td>\n",
       "      <td>Senior</td>\n",
       "      <td>17</td>\n",
       "    </tr>\n",
       "    <tr>\n",
       "      <th>17</th>\n",
       "      <td>Data Management and Strategy</td>\n",
       "      <td>Mid-level</td>\n",
       "      <td>18</td>\n",
       "    </tr>\n",
       "    <tr>\n",
       "      <th>18</th>\n",
       "      <td>Data Management and Strategy</td>\n",
       "      <td>Entry-level</td>\n",
       "      <td>19</td>\n",
       "    </tr>\n",
       "    <tr>\n",
       "      <th>19</th>\n",
       "      <td>Data Quality and Operations</td>\n",
       "      <td>Mid-level</td>\n",
       "      <td>20</td>\n",
       "    </tr>\n",
       "    <tr>\n",
       "      <th>20</th>\n",
       "      <td>Data Quality and Operations</td>\n",
       "      <td>Senior</td>\n",
       "      <td>21</td>\n",
       "    </tr>\n",
       "    <tr>\n",
       "      <th>21</th>\n",
       "      <td>Data Quality and Operations</td>\n",
       "      <td>Entry-level</td>\n",
       "      <td>22</td>\n",
       "    </tr>\n",
       "    <tr>\n",
       "      <th>22</th>\n",
       "      <td>Data Science and Research</td>\n",
       "      <td>Executive</td>\n",
       "      <td>23</td>\n",
       "    </tr>\n",
       "    <tr>\n",
       "      <th>23</th>\n",
       "      <td>Data Science and Research</td>\n",
       "      <td>Entry-level</td>\n",
       "      <td>24</td>\n",
       "    </tr>\n",
       "    <tr>\n",
       "      <th>24</th>\n",
       "      <td>Data Science and Research</td>\n",
       "      <td>Mid-level</td>\n",
       "      <td>25</td>\n",
       "    </tr>\n",
       "    <tr>\n",
       "      <th>25</th>\n",
       "      <td>Data Science and Research</td>\n",
       "      <td>Senior</td>\n",
       "      <td>26</td>\n",
       "    </tr>\n",
       "    <tr>\n",
       "      <th>26</th>\n",
       "      <td>Leadership and Management</td>\n",
       "      <td>Senior</td>\n",
       "      <td>27</td>\n",
       "    </tr>\n",
       "    <tr>\n",
       "      <th>27</th>\n",
       "      <td>Leadership and Management</td>\n",
       "      <td>Entry-level</td>\n",
       "      <td>28</td>\n",
       "    </tr>\n",
       "    <tr>\n",
       "      <th>28</th>\n",
       "      <td>Leadership and Management</td>\n",
       "      <td>Executive</td>\n",
       "      <td>29</td>\n",
       "    </tr>\n",
       "    <tr>\n",
       "      <th>29</th>\n",
       "      <td>Leadership and Management</td>\n",
       "      <td>Mid-level</td>\n",
       "      <td>30</td>\n",
       "    </tr>\n",
       "    <tr>\n",
       "      <th>30</th>\n",
       "      <td>Machine Learning and AI</td>\n",
       "      <td>Entry-level</td>\n",
       "      <td>31</td>\n",
       "    </tr>\n",
       "    <tr>\n",
       "      <th>31</th>\n",
       "      <td>Machine Learning and AI</td>\n",
       "      <td>Mid-level</td>\n",
       "      <td>32</td>\n",
       "    </tr>\n",
       "    <tr>\n",
       "      <th>32</th>\n",
       "      <td>Machine Learning and AI</td>\n",
       "      <td>Executive</td>\n",
       "      <td>33</td>\n",
       "    </tr>\n",
       "    <tr>\n",
       "      <th>33</th>\n",
       "      <td>Machine Learning and AI</td>\n",
       "      <td>Senior</td>\n",
       "      <td>34</td>\n",
       "    </tr>\n",
       "  </tbody>\n",
       "</table>\n",
       "</div>"
      ],
      "text/plain": [
       "                      job_category experience_level  job_id\n",
       "0             BI and Visualization        Mid-level       1\n",
       "1             BI and Visualization           Senior       2\n",
       "2             BI and Visualization        Executive       3\n",
       "3             BI and Visualization      Entry-level       4\n",
       "4               Cloud and Database           Senior       5\n",
       "5                    Data Analysis           Senior       6\n",
       "6                    Data Analysis        Executive       7\n",
       "7                    Data Analysis      Entry-level       8\n",
       "8                    Data Analysis        Mid-level       9\n",
       "9   Data Architecture and Modeling        Mid-level      10\n",
       "10  Data Architecture and Modeling           Senior      11\n",
       "11  Data Architecture and Modeling        Executive      12\n",
       "12                Data Engineering        Executive      13\n",
       "13                Data Engineering           Senior      14\n",
       "14                Data Engineering      Entry-level      15\n",
       "15                Data Engineering        Mid-level      16\n",
       "16    Data Management and Strategy           Senior      17\n",
       "17    Data Management and Strategy        Mid-level      18\n",
       "18    Data Management and Strategy      Entry-level      19\n",
       "19     Data Quality and Operations        Mid-level      20\n",
       "20     Data Quality and Operations           Senior      21\n",
       "21     Data Quality and Operations      Entry-level      22\n",
       "22       Data Science and Research        Executive      23\n",
       "23       Data Science and Research      Entry-level      24\n",
       "24       Data Science and Research        Mid-level      25\n",
       "25       Data Science and Research           Senior      26\n",
       "26       Leadership and Management           Senior      27\n",
       "27       Leadership and Management      Entry-level      28\n",
       "28       Leadership and Management        Executive      29\n",
       "29       Leadership and Management        Mid-level      30\n",
       "30         Machine Learning and AI      Entry-level      31\n",
       "31         Machine Learning and AI        Mid-level      32\n",
       "32         Machine Learning and AI        Executive      33\n",
       "33         Machine Learning and AI           Senior      34"
      ]
     },
     "execution_count": 255,
     "metadata": {},
     "output_type": "execute_result"
    }
   ],
   "source": [
    "job_df"
   ]
  },
  {
   "cell_type": "code",
   "execution_count": 256,
   "id": "81acafbd-1544-4b3e-ade7-7901ac967a08",
   "metadata": {
    "tags": []
   },
   "outputs": [
    {
     "data": {
      "text/plain": [
       "0               BI and Visualization\n",
       "1               BI and Visualization\n",
       "2               BI and Visualization\n",
       "3               BI and Visualization\n",
       "4                 Cloud and Database\n",
       "5                      Data Analysis\n",
       "6                      Data Analysis\n",
       "7                      Data Analysis\n",
       "8                      Data Analysis\n",
       "9     Data Architecture and Modeling\n",
       "10    Data Architecture and Modeling\n",
       "11    Data Architecture and Modeling\n",
       "12                  Data Engineering\n",
       "13                  Data Engineering\n",
       "14                  Data Engineering\n",
       "15                  Data Engineering\n",
       "16      Data Management and Strategy\n",
       "17      Data Management and Strategy\n",
       "18      Data Management and Strategy\n",
       "19       Data Quality and Operations\n",
       "20       Data Quality and Operations\n",
       "21       Data Quality and Operations\n",
       "22         Data Science and Research\n",
       "23         Data Science and Research\n",
       "24         Data Science and Research\n",
       "25         Data Science and Research\n",
       "26         Leadership and Management\n",
       "27         Leadership and Management\n",
       "28         Leadership and Management\n",
       "29         Leadership and Management\n",
       "30           Machine Learning and AI\n",
       "31           Machine Learning and AI\n",
       "32           Machine Learning and AI\n",
       "33           Machine Learning and AI\n",
       "Name: job_category, dtype: object"
      ]
     },
     "execution_count": 256,
     "metadata": {},
     "output_type": "execute_result"
    }
   ],
   "source": [
    "job_category = job_df['job_category']\n",
    "job_category"
   ]
  },
  {
   "cell_type": "code",
   "execution_count": 257,
   "id": "227bc88c-d4d4-4858-b095-91a08363ea7a",
   "metadata": {
    "tags": []
   },
   "outputs": [
    {
     "data": {
      "text/plain": [
       "0      1\n",
       "1      2\n",
       "2      3\n",
       "3      4\n",
       "4      5\n",
       "5      6\n",
       "6      7\n",
       "7      8\n",
       "8      9\n",
       "9     10\n",
       "10    11\n",
       "11    12\n",
       "12    13\n",
       "13    14\n",
       "14    15\n",
       "15    16\n",
       "16    17\n",
       "17    18\n",
       "18    19\n",
       "19    20\n",
       "20    21\n",
       "21    22\n",
       "22    23\n",
       "23    24\n",
       "24    25\n",
       "25    26\n",
       "26    27\n",
       "27    28\n",
       "28    29\n",
       "29    30\n",
       "30    31\n",
       "31    32\n",
       "32    33\n",
       "33    34\n",
       "Name: job_id, dtype: int64"
      ]
     },
     "execution_count": 257,
     "metadata": {},
     "output_type": "execute_result"
    }
   ],
   "source": [
    "job_id = job_df['job_id']\n",
    "job_id"
   ]
  },
  {
   "cell_type": "code",
   "execution_count": 259,
   "id": "e644bfe4-2287-435a-a339-8ab29ac6186a",
   "metadata": {
    "tags": []
   },
   "outputs": [
    {
     "data": {
      "text/plain": [
       "0       Mid-level\n",
       "1          Senior\n",
       "2       Executive\n",
       "3     Entry-level\n",
       "4          Senior\n",
       "5          Senior\n",
       "6       Executive\n",
       "7     Entry-level\n",
       "8       Mid-level\n",
       "9       Mid-level\n",
       "10         Senior\n",
       "11      Executive\n",
       "12      Executive\n",
       "13         Senior\n",
       "14    Entry-level\n",
       "15      Mid-level\n",
       "16         Senior\n",
       "17      Mid-level\n",
       "18    Entry-level\n",
       "19      Mid-level\n",
       "20         Senior\n",
       "21    Entry-level\n",
       "22      Executive\n",
       "23    Entry-level\n",
       "24      Mid-level\n",
       "25         Senior\n",
       "26         Senior\n",
       "27    Entry-level\n",
       "28      Executive\n",
       "29      Mid-level\n",
       "30    Entry-level\n",
       "31      Mid-level\n",
       "32      Executive\n",
       "33         Senior\n",
       "Name: experience_level, dtype: object"
      ]
     },
     "execution_count": 259,
     "metadata": {},
     "output_type": "execute_result"
    }
   ],
   "source": [
    "experience_level = job_df['experience_level']\n",
    "experience_level"
   ]
  },
  {
   "cell_type": "code",
   "execution_count": 261,
   "id": "d13776d5-08ef-4b4a-90bf-56090de28639",
   "metadata": {
    "tags": []
   },
   "outputs": [
    {
     "data": {
      "text/plain": [
       "{('BI and Visualization', 'Mid-level'): 1,\n",
       " ('BI and Visualization', 'Senior'): 2,\n",
       " ('BI and Visualization', 'Executive'): 3,\n",
       " ('BI and Visualization', 'Entry-level'): 4,\n",
       " ('Cloud and Database', 'Senior'): 5,\n",
       " ('Data Analysis', 'Senior'): 6,\n",
       " ('Data Analysis', 'Executive'): 7,\n",
       " ('Data Analysis', 'Entry-level'): 8,\n",
       " ('Data Analysis', 'Mid-level'): 9,\n",
       " ('Data Architecture and Modeling', 'Mid-level'): 10,\n",
       " ('Data Architecture and Modeling', 'Senior'): 11,\n",
       " ('Data Architecture and Modeling', 'Executive'): 12,\n",
       " ('Data Engineering', 'Executive'): 13,\n",
       " ('Data Engineering', 'Senior'): 14,\n",
       " ('Data Engineering', 'Entry-level'): 15,\n",
       " ('Data Engineering', 'Mid-level'): 16,\n",
       " ('Data Management and Strategy', 'Senior'): 17,\n",
       " ('Data Management and Strategy', 'Mid-level'): 18,\n",
       " ('Data Management and Strategy', 'Entry-level'): 19,\n",
       " ('Data Quality and Operations', 'Mid-level'): 20,\n",
       " ('Data Quality and Operations', 'Senior'): 21,\n",
       " ('Data Quality and Operations', 'Entry-level'): 22,\n",
       " ('Data Science and Research', 'Executive'): 23,\n",
       " ('Data Science and Research', 'Entry-level'): 24,\n",
       " ('Data Science and Research', 'Mid-level'): 25,\n",
       " ('Data Science and Research', 'Senior'): 26,\n",
       " ('Leadership and Management', 'Senior'): 27,\n",
       " ('Leadership and Management', 'Entry-level'): 28,\n",
       " ('Leadership and Management', 'Executive'): 29,\n",
       " ('Leadership and Management', 'Mid-level'): 30,\n",
       " ('Machine Learning and AI', 'Entry-level'): 31,\n",
       " ('Machine Learning and AI', 'Mid-level'): 32,\n",
       " ('Machine Learning and AI', 'Executive'): 33,\n",
       " ('Machine Learning and AI', 'Senior'): 34}"
      ]
     },
     "execution_count": 261,
     "metadata": {},
     "output_type": "execute_result"
    }
   ],
   "source": [
    "job_mapping = dict(zip(zip(job_df['job_category'], job_df['experience_level']), job_df['job_id']))\n",
    "job_mapping"
   ]
  },
  {
   "cell_type": "code",
   "execution_count": 262,
   "id": "a9714172-d44b-4fa7-a9b5-e7e95538c224",
   "metadata": {
    "tags": []
   },
   "outputs": [],
   "source": [
    "def map_job_id(row):\n",
    "    return job_mapping.get((row['job_category'], row['experience_level']))\n",
    "\n",
    "clean_data_df['job_id'] = clean_data_df.apply(map_job_id, axis=1)"
   ]
  },
  {
   "cell_type": "code",
   "execution_count": 263,
   "id": "bbdf114c-2ac5-46fb-a763-99f447c732c1",
   "metadata": {
    "tags": []
   },
   "outputs": [
    {
     "data": {
      "text/html": [
       "<div>\n",
       "<style scoped>\n",
       "    .dataframe tbody tr th:only-of-type {\n",
       "        vertical-align: middle;\n",
       "    }\n",
       "\n",
       "    .dataframe tbody tr th {\n",
       "        vertical-align: top;\n",
       "    }\n",
       "\n",
       "    .dataframe thead th {\n",
       "        text-align: right;\n",
       "    }\n",
       "</style>\n",
       "<table border=\"1\" class=\"dataframe\">\n",
       "  <thead>\n",
       "    <tr style=\"text-align: right;\">\n",
       "      <th></th>\n",
       "      <th>index</th>\n",
       "      <th>year</th>\n",
       "      <th>job_category</th>\n",
       "      <th>salary_in_usd</th>\n",
       "      <th>country</th>\n",
       "      <th>experience_level</th>\n",
       "      <th>work_setting</th>\n",
       "      <th>global_average_salary</th>\n",
       "      <th>global_salary_id</th>\n",
       "      <th>country_id</th>\n",
       "      <th>job_id</th>\n",
       "    </tr>\n",
       "  </thead>\n",
       "  <tbody>\n",
       "    <tr>\n",
       "      <th>0</th>\n",
       "      <td>0</td>\n",
       "      <td>2023</td>\n",
       "      <td>Data Engineering</td>\n",
       "      <td>95012</td>\n",
       "      <td>Germany</td>\n",
       "      <td>Mid-level</td>\n",
       "      <td>Hybrid</td>\n",
       "      <td>48584.0</td>\n",
       "      <td>55</td>\n",
       "      <td>26</td>\n",
       "      <td>16</td>\n",
       "    </tr>\n",
       "    <tr>\n",
       "      <th>1</th>\n",
       "      <td>1</td>\n",
       "      <td>2023</td>\n",
       "      <td>Data Analysis</td>\n",
       "      <td>42107</td>\n",
       "      <td>Germany</td>\n",
       "      <td>Mid-level</td>\n",
       "      <td>Hybrid</td>\n",
       "      <td>48584.0</td>\n",
       "      <td>55</td>\n",
       "      <td>26</td>\n",
       "      <td>9</td>\n",
       "    </tr>\n",
       "    <tr>\n",
       "      <th>2</th>\n",
       "      <td>2</td>\n",
       "      <td>2023</td>\n",
       "      <td>Machine Learning and AI</td>\n",
       "      <td>64781</td>\n",
       "      <td>Germany</td>\n",
       "      <td>Senior</td>\n",
       "      <td>Hybrid</td>\n",
       "      <td>48584.0</td>\n",
       "      <td>55</td>\n",
       "      <td>26</td>\n",
       "      <td>34</td>\n",
       "    </tr>\n",
       "    <tr>\n",
       "      <th>3</th>\n",
       "      <td>3</td>\n",
       "      <td>2023</td>\n",
       "      <td>Machine Learning and AI</td>\n",
       "      <td>129562</td>\n",
       "      <td>Germany</td>\n",
       "      <td>Senior</td>\n",
       "      <td>Remote</td>\n",
       "      <td>48584.0</td>\n",
       "      <td>55</td>\n",
       "      <td>26</td>\n",
       "      <td>34</td>\n",
       "    </tr>\n",
       "    <tr>\n",
       "      <th>4</th>\n",
       "      <td>4</td>\n",
       "      <td>2023</td>\n",
       "      <td>Data Engineering</td>\n",
       "      <td>107968</td>\n",
       "      <td>Germany</td>\n",
       "      <td>Senior</td>\n",
       "      <td>Remote</td>\n",
       "      <td>48584.0</td>\n",
       "      <td>55</td>\n",
       "      <td>26</td>\n",
       "      <td>14</td>\n",
       "    </tr>\n",
       "    <tr>\n",
       "      <th>...</th>\n",
       "      <td>...</td>\n",
       "      <td>...</td>\n",
       "      <td>...</td>\n",
       "      <td>...</td>\n",
       "      <td>...</td>\n",
       "      <td>...</td>\n",
       "      <td>...</td>\n",
       "      <td>...</td>\n",
       "      <td>...</td>\n",
       "      <td>...</td>\n",
       "      <td>...</td>\n",
       "    </tr>\n",
       "    <tr>\n",
       "      <th>9302</th>\n",
       "      <td>9302</td>\n",
       "      <td>2020</td>\n",
       "      <td>Data Engineering</td>\n",
       "      <td>125000</td>\n",
       "      <td>New Zealand</td>\n",
       "      <td>Senior</td>\n",
       "      <td>Hybrid</td>\n",
       "      <td>58441.0</td>\n",
       "      <td>63</td>\n",
       "      <td>48</td>\n",
       "      <td>14</td>\n",
       "    </tr>\n",
       "    <tr>\n",
       "      <th>9303</th>\n",
       "      <td>9303</td>\n",
       "      <td>2021</td>\n",
       "      <td>Data Engineering</td>\n",
       "      <td>66022</td>\n",
       "      <td>Hong Kong</td>\n",
       "      <td>Mid-level</td>\n",
       "      <td>Hybrid</td>\n",
       "      <td>56245.0</td>\n",
       "      <td>62</td>\n",
       "      <td>30</td>\n",
       "      <td>16</td>\n",
       "    </tr>\n",
       "    <tr>\n",
       "      <th>9304</th>\n",
       "      <td>9304</td>\n",
       "      <td>2020</td>\n",
       "      <td>Machine Learning and AI</td>\n",
       "      <td>45896</td>\n",
       "      <td>Denmark</td>\n",
       "      <td>Entry-level</td>\n",
       "      <td>Hybrid</td>\n",
       "      <td>69348.0</td>\n",
       "      <td>69</td>\n",
       "      <td>19</td>\n",
       "      <td>31</td>\n",
       "    </tr>\n",
       "    <tr>\n",
       "      <th>9305</th>\n",
       "      <td>9305</td>\n",
       "      <td>2021</td>\n",
       "      <td>Data Analysis</td>\n",
       "      <td>59102</td>\n",
       "      <td>Luxembourg</td>\n",
       "      <td>Entry-level</td>\n",
       "      <td>Remote</td>\n",
       "      <td>62537.0</td>\n",
       "      <td>68</td>\n",
       "      <td>41</td>\n",
       "      <td>8</td>\n",
       "    </tr>\n",
       "    <tr>\n",
       "      <th>9306</th>\n",
       "      <td>9306</td>\n",
       "      <td>2021</td>\n",
       "      <td>Data Engineering</td>\n",
       "      <td>28369</td>\n",
       "      <td>Malta</td>\n",
       "      <td>Mid-level</td>\n",
       "      <td>Hybrid</td>\n",
       "      <td>58858.0</td>\n",
       "      <td>65</td>\n",
       "      <td>43</td>\n",
       "      <td>16</td>\n",
       "    </tr>\n",
       "  </tbody>\n",
       "</table>\n",
       "<p>9307 rows × 11 columns</p>\n",
       "</div>"
      ],
      "text/plain": [
       "      index  year             job_category  salary_in_usd      country  \\\n",
       "0         0  2023         Data Engineering          95012      Germany   \n",
       "1         1  2023            Data Analysis          42107      Germany   \n",
       "2         2  2023  Machine Learning and AI          64781      Germany   \n",
       "3         3  2023  Machine Learning and AI         129562      Germany   \n",
       "4         4  2023         Data Engineering         107968      Germany   \n",
       "...     ...   ...                      ...            ...          ...   \n",
       "9302   9302  2020         Data Engineering         125000  New Zealand   \n",
       "9303   9303  2021         Data Engineering          66022    Hong Kong   \n",
       "9304   9304  2020  Machine Learning and AI          45896      Denmark   \n",
       "9305   9305  2021            Data Analysis          59102   Luxembourg   \n",
       "9306   9306  2021         Data Engineering          28369        Malta   \n",
       "\n",
       "     experience_level work_setting  global_average_salary  global_salary_id  \\\n",
       "0           Mid-level       Hybrid                48584.0                55   \n",
       "1           Mid-level       Hybrid                48584.0                55   \n",
       "2              Senior       Hybrid                48584.0                55   \n",
       "3              Senior       Remote                48584.0                55   \n",
       "4              Senior       Remote                48584.0                55   \n",
       "...               ...          ...                    ...               ...   \n",
       "9302           Senior       Hybrid                58441.0                63   \n",
       "9303        Mid-level       Hybrid                56245.0                62   \n",
       "9304      Entry-level       Hybrid                69348.0                69   \n",
       "9305      Entry-level       Remote                62537.0                68   \n",
       "9306        Mid-level       Hybrid                58858.0                65   \n",
       "\n",
       "      country_id  job_id  \n",
       "0             26      16  \n",
       "1             26       9  \n",
       "2             26      34  \n",
       "3             26      34  \n",
       "4             26      14  \n",
       "...          ...     ...  \n",
       "9302          48      14  \n",
       "9303          30      16  \n",
       "9304          19      31  \n",
       "9305          41       8  \n",
       "9306          43      16  \n",
       "\n",
       "[9307 rows x 11 columns]"
      ]
     },
     "execution_count": 263,
     "metadata": {},
     "output_type": "execute_result"
    }
   ],
   "source": [
    "clean_data_df"
   ]
  },
  {
   "cell_type": "code",
   "execution_count": null,
   "id": "01fa627f-384a-4276-a57e-1bbdcf645354",
   "metadata": {},
   "outputs": [],
   "source": [
    "# job_df.to_csv(\"job.csv\")"
   ]
  }
 ],
 "metadata": {
  "kernelspec": {
   "display_name": "Python 3 (ipykernel)",
   "language": "python",
   "name": "python3"
  },
  "language_info": {
   "codemirror_mode": {
    "name": "ipython",
    "version": 3
   },
   "file_extension": ".py",
   "mimetype": "text/x-python",
   "name": "python",
   "nbconvert_exporter": "python",
   "pygments_lexer": "ipython3",
   "version": "3.11.5"
  }
 },
 "nbformat": 4,
 "nbformat_minor": 5
}
